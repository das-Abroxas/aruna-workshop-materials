{
 "cells": [
  {
   "cell_type": "markdown",
   "metadata": {},
   "source": [
    "# Welcome to the Aruna API workshop at the 2024 NFDI4Microbiota annual conference.\n",
    "\n",
    "<hr/>\n",
    "\n",
    "**In this workshop you will learn what Aruna is, how the API of Aruna is structured and how you can use it to run your individual data management in Aruna.**\n",
    "\n",
    "**Be it for your research project or for a service that should use the Aruna services as or in its backend.**\n",
    "\n",
    "### <ins>Todays Agenda:</ins>\n",
    "\n",
    "1. **How to install the Aruna Python gRPC API**\n",
    "\n",
    "2. **How to initiate a client**\n",
    "\n",
    "3. **How to create an Aruna token**\n",
    "\n",
    "4. **How to create a Project**\n",
    "\n",
    "5. **How to create a Collection**\n",
    "\n",
    "6. **How to create an Object**\n",
    "\n",
    "7. **How to upload data**\n",
    "\n",
    "8. **How to enrich an Object with metadata**\n",
    "\n",
    "    - **With labels**\n",
    "      \n",
    "    - **With a relation to another Object that contains the metadata**\n",
    "\n",
    "10. **How to give other users access to my resources**\n",
    "\n",
    "11. **How to extend Aruna with hooks**\n",
    "\n",
    "10. **Aruna v3 Preview**\n",
    "\n",
    "<hr />"
   ]
  },
  {
   "cell_type": "markdown",
   "metadata": {},
   "source": [
    "## 1. Install Aruna Python API\n",
    "\n",
    "Will be likely already installed in this environment, but for the sake of completeness."
   ]
  },
  {
   "cell_type": "code",
   "execution_count": null,
   "metadata": {},
   "outputs": [],
   "source": [
    "%pip install Aruna-Python-API # Installs the latest Aruna API version. "
   ]
  },
  {
   "cell_type": "markdown",
   "metadata": {},
   "source": [
    "## 2. How to initiate a client\n",
    "\n",
    "### Import service definitions and set global constants"
   ]
  },
  {
   "cell_type": "code",
   "execution_count": null,
   "metadata": {},
   "outputs": [],
   "source": [
    "import grpc\n",
    "import collections\n",
    "\n",
    "from aruna.api.storage.services.v2.info_service_pb2_grpc import StorageStatusServiceStub\n",
    "from aruna.api.storage.services.v2.authorization_service_pb2_grpc import AuthorizationServiceStub\n",
    "from aruna.api.storage.services.v2.user_service_pb2_grpc import UserServiceStub\n",
    "from aruna.api.storage.services.v2.project_service_pb2_grpc import ProjectServiceStub\n",
    "from aruna.api.storage.services.v2.collection_service_pb2_grpc import CollectionServiceStub\n",
    "from aruna.api.storage.services.v2.dataset_service_pb2_grpc import DatasetServiceStub\n",
    "from aruna.api.storage.services.v2.object_service_pb2_grpc import ObjectServiceStub\n",
    "from aruna.api.hooks.services.v2.hooks_service_pb2_grpc import HooksServiceStub\n",
    "\n",
    "# Define a Aruna Server instance endpoint\n",
    "#AOS_HOST = 'grpc.aruna.nfdi-dev.gi.denbi.de' # Protocol (e.g. https://) has to be omitted\n",
    "#AOS_PORT = '443'\n",
    "AOS_HOST = '0.0.0.0' # Protocol (e.g. https://) has to be omitted\n",
    "AOS_PORT = '50051'   # Port of the grpc endpoint\n",
    "\n",
    "API_TOKEN = 'SuperSecretToken'"
   ]
  },
  {
   "cell_type": "markdown",
   "metadata": {},
   "source": [
    "### Implement automatic authorization\n",
    "\n",
    "The interceptor automatically adds the specified API token to each request header before sending as: \n",
    "\n",
    "`authorization: Bearer <API-Token>`"
   ]
  },
  {
   "cell_type": "code",
   "execution_count": null,
   "metadata": {},
   "outputs": [],
   "source": [
    "class _MyAuthInterceptor(grpc.UnaryUnaryClientInterceptor):\n",
    "    \"\"\"\n",
    "    Implement abstract class grpc.UnaryUnaryClientInterceptor to extend request metadata.\n",
    "    \"\"\"\n",
    "    def intercept_unary_unary(self, continuation, client_call_details, request):\n",
    "        # Append authorization token to request metadata\n",
    "        metadata = []\n",
    "        if client_call_details.metadata is not None:\n",
    "            metadata = list(client_call_details.metadata)\n",
    "        metadata.append(('authorization', f'Bearer {API_TOKEN}'))\n",
    "\n",
    "        # Continue with new client call details\n",
    "        request_iterator = iter((request,))\n",
    "        updated_details = _ClientCallDetails(\n",
    "            client_call_details.method, client_call_details.timeout,\n",
    "            metadata, client_call_details.credentials\n",
    "        )\n",
    "\n",
    "        return continuation(updated_details, next(request_iterator))\n",
    "\n",
    "\n",
    "class _ClientCallDetails(\n",
    "    collections.namedtuple('_ClientCallDetails', ('method', 'timeout', 'metadata', 'credentials')),\n",
    "    grpc.ClientCallDetails):\n",
    "    \"\"\"\n",
    "    Implement grpc.ClientCallDetails to pass modified request details in interceptor.\n",
    "    \"\"\"\n",
    "    pass"
   ]
  },
  {
   "cell_type": "markdown",
   "metadata": {},
   "source": [
    "### Encapsulate services in class for easier usage\n",
    "\n",
    "Swagger UI gives an overview of the available API endpoints: [https://api.aruna-engine.org/swagger-ui](https://api.aruna-storage.org/swagger-ui/)"
   ]
  },
  {
   "cell_type": "code",
   "execution_count": null,
   "metadata": {},
   "outputs": [],
   "source": [
    "class ArunaClient(object):\n",
    "    \"\"\"\n",
    "     Class to contain the AOS gRPC client service stubs for easier usage.\n",
    "    \"\"\"\n",
    "\n",
    "    def __init__(self, ):\n",
    "        #ssl_credentials = grpc.ssl_channel_credentials()\n",
    "        #self.secure_channel = grpc.secure_channel(\"{}:{}\".format(AOS_HOST, AOS_PORT), ssl_credentials)\n",
    "        self.insecure_channel = grpc.insecure_channel(\"{}:{}\".format(AOS_HOST, AOS_PORT))\n",
    "        self.intercept_channel = grpc.intercept_channel(self.insecure_channel, _MyAuthInterceptor())\n",
    "\n",
    "        self.info_client = StorageStatusServiceStub(self.intercept_channel)\n",
    "        self.auth_client = AuthorizationServiceStub(self.intercept_channel)\n",
    "        self.user_client = UserServiceStub(self.intercept_channel)\n",
    "        self.project_client = ProjectServiceStub(self.intercept_channel)\n",
    "        self.collection_client = CollectionServiceStub(self.intercept_channel)\n",
    "        self.dataset_client = DatasetServiceStub(self.intercept_channel)\n",
    "        self.object_client = ObjectServiceStub(self.intercept_channel)\n",
    "        self.hook_client = HooksServiceStub(self.intercept_channel)\n",
    "\n",
    "        # self.other_client = ...\n",
    "\n",
    "client = ArunaClient()"
   ]
  },
  {
   "cell_type": "markdown",
   "metadata": {},
   "source": [
    "### Get Status Information\n",
    "\n",
    "This is a good request to test the client configuration as it does not need any authentication."
   ]
  },
  {
   "cell_type": "code",
   "execution_count": null,
   "metadata": {},
   "outputs": [],
   "source": [
    "# Imports from generated gRPC modules\n",
    "from aruna.api.storage.services.v2.info_service_pb2 import GetPubkeysRequest\n",
    "\n",
    "# Create tonic/ArunaAPI request to fetch user info of current user\n",
    "get_pubkeys_request = GetPubkeysRequest()\n",
    "\n",
    "# Send the request to the AOS instance gRPC gateway\n",
    "get_pubkeys_response = client.info_client.GetPubkeys(request=get_pubkeys_request)\n",
    "\n",
    "# Do something with the response\n",
    "print(f'{get_pubkeys_response}')"
   ]
  },
  {
   "cell_type": "markdown",
   "metadata": {},
   "source": [
    "## 3. How to create an Aruna token\n",
    "\n",
    "1. Login to supported OIDC identity provider: https://dev.aruna-engine.org\n",
    "\n",
    "2. Use OIDC token to register user in Aruna\n",
    "\n",
    "3. Create Aruna token through the web interface or the API"
   ]
  },
  {
   "cell_type": "code",
   "execution_count": null,
   "metadata": {},
   "outputs": [],
   "source": [
    "API_TOKEN = '<OIDC-Token>'\n",
    "\n",
    "# Imports from generated gRPC modules\n",
    "from aruna.api.storage.services.v2.user_service_pb2 import RegisterUserRequest\n",
    "\n",
    "# Create tonic/ArunaAPI request to fetch user info of current user\n",
    "register_user_request = RegisterUserRequest()\n",
    "\n",
    "# Send the request to the AOS instance gRPC gateway\n",
    "register_user_response = client.info_client.GetPubkeys(request=register_user_request)\n",
    "\n",
    "# Do something with the response\n",
    "print(f'{register_user_response}')"
   ]
  },
  {
   "cell_type": "code",
   "execution_count": null,
   "metadata": {},
   "outputs": [],
   "source": [
    "import datetime\n",
    "\n",
    "# Imports from generated gRPC modules\n",
    "from aruna.api.storage.services.v2.user_service_pb2 import CreateAPITokenRequest\n",
    "from google.protobuf.internal.well_known_types import Timestamp\n",
    "\n",
    "# Create tonic/ArunaAPI request to fetch user info of current user\n",
    "create_token_request = CreateAPITokenRequest(\n",
    "    name = \"My Aruna token\",\n",
    "    expires_at = datetime.datetime(2030, 1, 1, 0, 0, 0)\n",
    ")\n",
    "\n",
    "# Send the request to the AOS instance gRPC gateway\n",
    "create_token_response = client.user_client.CreateAPIToken(request=create_token_request)\n",
    "\n",
    "# Do something with the response\n",
    "print(f'{create_token_response}')"
   ]
  },
  {
   "cell_type": "markdown",
   "metadata": {},
   "source": [
    "## Get User Information"
   ]
  },
  {
   "cell_type": "code",
   "execution_count": null,
   "metadata": {},
   "outputs": [],
   "source": [
    "# Imports from generated gRPC modules\n",
    "from aruna.api.storage.services.v2.user_service_pb2 import GetUserRequest\n",
    "\n",
    "# Create tonic/ArunaAPI request to fetch user info of current user\n",
    "get_user_request = GetUserRequest()\n",
    "\n",
    "# Send the request to the AOS instance gRPC gateway\n",
    "get_user_response = client.user_client.GetUser(request=get_user_request)\n",
    "\n",
    "# Do something with the response\n",
    "print(f'{get_user_response}')"
   ]
  },
  {
   "cell_type": "markdown",
   "metadata": {},
   "source": [
    "## 3. How to create a Project"
   ]
  },
  {
   "cell_type": "markdown",
   "metadata": {},
   "source": [
    "### Create a Project"
   ]
  },
  {
   "cell_type": "code",
   "execution_count": null,
   "metadata": {},
   "outputs": [],
   "source": [
    "# Imports from generated gRPC modules\n",
    "from aruna.api.storage.services.v2.project_service_pb2 import CreateProjectRequest\n",
    "from aruna.api.storage.models.v2.models_pb2 import DataClass\n",
    "\n",
    "# Create tonic/ArunaAPI request to fetch information of a project\n",
    "create_project_request = CreateProjectRequest(\n",
    "    name = \"my-workshop-project\",\n",
    "    title = \"My Workshop Project\",\n",
    "    description = \"A workshop project created with the gRPC Python API client.\",\n",
    "    authors = [\n",
    "    ],\n",
    "    key_values = [], \n",
    "    relations = [], \n",
    "    data_class = DataClass.DATA_CLASS_PUBLIC,\n",
    "    preferred_endpoint = \"\",\n",
    "    metadata_license_tag = \"AllRightsReserved\",\n",
    "    default_data_license_tag = \"AllRightsReserved\"\n",
    ")\n",
    "\n",
    "# Send the request to the AOS instance gRPC gateway\n",
    "create_project_response = client.project_client.CreateProject(request=create_project_request)\n",
    "\n",
    "# Do something with the response\n",
    "PROJECT_ID = create_project_response.project.id\n",
    "print(f'{create_project_request}')"
   ]
  },
  {
   "cell_type": "markdown",
   "metadata": {
    "tags": []
   },
   "source": [
    "**Current Project State:**\n",
    "\n",
    "![Project with admin user](./imgs/Demo_empty_project.jpg)"
   ]
  },
  {
   "cell_type": "markdown",
   "metadata": {},
   "source": [
    "## Get Project Information"
   ]
  },
  {
   "cell_type": "code",
   "execution_count": null,
   "metadata": {},
   "outputs": [],
   "source": [
    "# Imports from generated gRPC modules\n",
    "from aruna.api.storage.services.v2.project_service_pb2 import GetProjectRequest\n",
    "\n",
    "# Create tonic/ArunaAPI request to fetch information of a project\n",
    "get_project_request = GetProjectRequest(\n",
    "    project_id = PROJECT_ID\n",
    ")\n",
    "\n",
    "# Send the request to the AOS instance gRPC gateway\n",
    "get_project_response = client.project_client.GetProject(request=get_project_request)\n",
    "\n",
    "# Do something with the response\n",
    "print(f'{get_project_response}')"
   ]
  },
  {
   "cell_type": "markdown",
   "metadata": {},
   "source": [
    "## Create Collection for Objects"
   ]
  },
  {
   "cell_type": "code",
   "execution_count": null,
   "metadata": {},
   "outputs": [],
   "source": [
    "# Imports from generated gRPC modules\n",
    "from aruna.api.storage.services.v2.collection_service_pb2 import CreateCollectionRequest\n",
    "from aruna.api.storage.models.v2.models_pb2 import DataClass, KeyValue\n",
    "\n",
    "# Create tonic/ArunaAPI request to fetch user info of current user\n",
    "create_collection_request = CreateCollectionRequest(\n",
    "        project_id=PROJECT_ID, # Parent of the collection\n",
    "        name = \"my-workshop-collection\",\n",
    "        title = \"My Workshop Collection\",\n",
    "        description = \"A workshop collection created with the gRPC Python API client.\",\n",
    "        key_values = [],\n",
    "        relations=[],\n",
    "        data_class=DataClass.DATA_CLASS_PUBLIC,\n",
    "        metadata_license_tag=\"AllRightsReserved\",\n",
    "        default_data_license_tag=\"AllRightsReserved\",\n",
    "        authors=[]\n",
    "    )\n",
    "\n",
    "# Send the request to the AOS instance gRPC gateway\n",
    "create_collection_response = client.collection_client.CreateCollection(request=create_collection_request)\n",
    "\n",
    "# Do something with the response\n",
    "COLLECTION_ID = create_collection_response.collection.id\n",
    "print(f'{create_collection_response}')"
   ]
  },
  {
   "cell_type": "markdown",
   "metadata": {},
   "source": [
    "## Get Collection Information"
   ]
  },
  {
   "cell_type": "code",
   "execution_count": null,
   "metadata": {},
   "outputs": [],
   "source": [
    "# Imports from generated gRPC modules\n",
    "from aruna.api.storage.services.v2.collection_service_pb2 import GetCollectionRequest\n",
    "\n",
    "# Create tonic/ArunaAPI request to fetch user info of current user\n",
    "get_collection_request = GetCollectionRequest(\n",
    "    collection_id = COLLECTION_ID\n",
    ")\n",
    "\n",
    "# Send the request to the AOS instance gRPC gateway\n",
    "get_collection_response = client.collection_client.GetCollection(request=get_collection_request)\n",
    "\n",
    "# Do something with the response\n",
    "print(f'{get_collection_response}')"
   ]
  },
  {
   "cell_type": "markdown",
   "metadata": {},
   "source": [
    "\n",
    "**Current Project State:**\n",
    "\n",
    "![Project with admin user](./imgs/Demo_simple_collection.jpg)"
   ]
  },
  {
   "cell_type": "markdown",
   "metadata": {},
   "source": [
    "## Create Object and fill it with data\n",
    "\n",
    "Normally, the creation of an Object consists of three steps:\n",
    "\n",
    "1. Initialize the Object\n",
    "2. Upload the data\n",
    "3. Finish the Object (will be performed automatically for a single part upload)\n",
    "\n",
    "These three steps are required independently to avoid inconsistencies in the storage."
   ]
  },
  {
   "cell_type": "markdown",
   "metadata": {},
   "source": [
    "### Initialize Object"
   ]
  },
  {
   "cell_type": "code",
   "execution_count": null,
   "metadata": {},
   "outputs": [],
   "source": [
    "# Imports from generated gRPC modules\n",
    "from aruna.api.storage.services.v2.object_service_pb2 import CreateObjectRequest\n",
    "from aruna.api.storage.models.v2.models_pb2 import Hash, Hashalgorithm\n",
    "\n",
    "# Create tonic/ArunaAPI request to initialize an staging object\n",
    "init_data_object_request = CreateObjectRequest(\n",
    "    name = \"GCF_000005845.2_ASM584v2_genomic.fna\",\n",
    "    title = \"Genome assembly ASM584v2\",\n",
    "    description = \"Escherichia coli str. K-12 substr. MG1655, complete genome.\",\n",
    "    key_values = [],\n",
    "    relations = [],\n",
    "    data_class = DataClass.DATA_CLASS_PUBLIC,\n",
    "    #project_id=\"<project-id>\",\n",
    "    collection_id = COLLECTION_ID,\n",
    "    #dataset_id=\"<dataset-id>\",\n",
    "    hashes = [],\n",
    "    metadata_license_tag=\"AllRightsReserved\",\n",
    "    data_license_tag=\"AllRightsReserved\",\n",
    "    authors=[]\n",
    ")\n",
    "\n",
    "# Send the request to the AOS instance gRPC gateway\n",
    "init_data_object_response = client.object_client.CreateObject(request=init_data_object_request)\n",
    "\n",
    "# Do something with the response\n",
    "OBJECT_ID = init_data_object_response.object.id\n",
    "print(f'{init_data_object_response}')"
   ]
  },
  {
   "cell_type": "markdown",
   "metadata": {},
   "source": [
    "### Upload single part data"
   ]
  },
  {
   "cell_type": "code",
   "execution_count": null,
   "metadata": {},
   "outputs": [],
   "source": [
    "import gzip\n",
    "import requests\n",
    "\n",
    "# Imports from generated gRPC modules\n",
    "from aruna.api.storage.services.v2.object_service_pb2 import GetUploadURLRequest\n",
    "\n",
    "# Create tonic/ArunaAPI request to request an upload url for single part upload\n",
    "get_upload_url_request = GetUploadURLRequest(\n",
    "    object_id=OBJECT_ID,\n",
    "    multipart=False,\n",
    "    part_number=1\n",
    ")\n",
    "\n",
    "# Send the request to the AOS instance gRPC gateway\n",
    "get_upload_url_response = client.object_client.GetUploadURL(request=get_upload_url_request)\n",
    "\n",
    "# Do something with the response\n",
    "print(f'{get_upload_url_response}')\n",
    "upload_url = get_upload_url_response.url\n",
    "\n",
    "# Load remote file content in memory\n",
    "remote_file_url = \"https://ftp.ncbi.nlm.nih.gov/genomes/all/GCF/000/005/845/GCF_000005845.2_ASM584v2/GCF_000005845.2_ASM584v2_genomic.fna.gz\"\n",
    "remote_file_gzipped = requests.get(remote_file_url).content\n",
    "\n",
    "with gzip.open(remote_file_gzipped, 'rb') as gzipped_file:\n",
    "    # Upload file content to the generated upload URL\n",
    "    headers = {'Content-type': 'application/octet-stream'}\n",
    "    upload_response = requests.put(upload_url, data=gzipped_file.read(), headers=headers)\n",
    "\n",
    "    # Do something with the response\n",
    "    print(f'{upload_response}')"
   ]
  },
  {
   "cell_type": "markdown",
   "metadata": {},
   "source": [
    "### Finish Object (Only for multipart uploads)"
   ]
  },
  {
   "cell_type": "code",
   "execution_count": null,
   "metadata": {},
   "outputs": [],
   "source": [
    "import hashlib\n",
    "\n",
    "# Imports from generated gRPC modules\n",
    "from aruna.api.storage.services.v2.object_service_pb2 import FinishObjectRequest\n",
    "\n",
    "# Calculate SHA256 Hashsum\n",
    "sha256_file_hash = hashlib.sha256(remote_file_raw).hexdigest()\n",
    "\n",
    "# Create tonic/ArunaAPI request to finish a single part upload staging object\n",
    "finish_request = FinishObjectStagingRequest(\n",
    "    object_id     = init_first_object_response.object_id,\n",
    "    upload_id     = init_first_object_response.upload_id,\n",
    "    collection_id = init_first_object_response.collection_id,\n",
    "    hash = Hash(\n",
    "        alg  = Hashalgorithm.Value(\"HASHALGORITHM_MD5\"),\n",
    "        hash = md5_file_hash\n",
    "    ),\n",
    "    auto_update = True\n",
    ")\n",
    "\n",
    "# Send the request to the AOS instance gRPC gateway\n",
    "finish_response = client.object_client.FinishObjectStaging(request=finish_request)\n",
    "\n",
    "# Do something with the response\n",
    "print(f'{finish_response}')"
   ]
  },
  {
   "cell_type": "markdown",
   "metadata": {},
   "source": [
    "### All three steps together for metadata object"
   ]
  },
  {
   "cell_type": "code",
   "execution_count": null,
   "metadata": {},
   "outputs": [],
   "source": [
    "https://ftp.ncbi.nlm.nih.gov/genomes/all/GCF/000/005/845/GCF_000005845.2_ASM584v2/GCF_000005845.2_ASM584v2_assembly_report.txt\n",
    "\n",
    "# Create tonic/ArunaAPI request to initialize an staging object\n",
    "init_meta_object_request = InitializeNewObjectRequest(\n",
    "    object=StageObject(\n",
    "        filename      = \"GCF_000005845.2_ASM584v2_assembly_report.txt\",\n",
    "        description   = \"Accompanying metadata for Genome assembly ASM584v2\",\n",
    "        content_len   = 1207,\n",
    "        labels        = [KeyValue(key=\"data_object\", value=init_data_object_response.object_id)],\n",
    "        dataclass     = DataClass.Value(\"DATA_CLASS_PRIVATE\")\n",
    "    ),\n",
    "    collection_id = create_collection_response.collection_id\n",
    ")\n",
    "\n",
    "# Send the request to the AOS instance gRPC gateway\n",
    "init_meta_object_response = client.object_client.InitializeNewObject(request=init_meta_object_request)\n",
    "\n",
    "# Do something with the response\n",
    "print(f'{init_meta_object_response}')\n",
    "\n",
    "# Create tonic/ArunaAPI request to request an upload url for single part upload\n",
    "get_upload_url_request = GetUploadURLRequest(\n",
    "    object_id     = init_meta_object_response.object_id,\n",
    "    upload_id     = init_meta_object_response.upload_id,\n",
    "    collection_id = init_meta_object_response.collection_id,\n",
    "    part_number   = 1 # Increases in case of multipart upload\n",
    ")\n",
    "\n",
    "# Send the request to the AOS instance gRPC gateway\n",
    "get_upload_url_response = client.object_client.GetUploadURL(request=get_upload_url_request)\n",
    "\n",
    "# Do something with the response\n",
    "upload_url = get_upload_url_response.url.url\n",
    "\n",
    "# Load remote file content in memory\n",
    "remote_file_url = \"https://gitlab-pe.gwdg.de/gfbio/ammod-examples-schemas/-/raw/master/examples/weather/raw%20data/WSC11_07212669_20220131T175851_metadata.json\"\n",
    "remote_file_raw = requests.get(remote_file_url).content\n",
    "\n",
    "# Upload file content to the generated upload URL\n",
    "headers = {'Content-type': 'application/octet-stream'}\n",
    "upload_response = requests.put(upload_url, data=remote_file_raw, headers=headers)\n",
    "\n",
    "# Do something with the response\n",
    "upload_response.raise_for_status\n",
    "\n",
    "# Calculate MD5 Hashsum of file\n",
    "md5_file_hash = hashlib.md5(remote_file_raw).hexdigest()\n",
    "\n",
    "# Create tonic/ArunaAPI request to finish a multipart upload staging object\n",
    "finish_request = FinishObjectStagingRequest(\n",
    "    object_id     = init_meta_object_response.object_id,\n",
    "    upload_id     = init_meta_object_response.upload_id,\n",
    "    collection_id = init_meta_object_response.collection_id,\n",
    "    hash = Hash(\n",
    "        alg  = Hashalgorithm.Value(\"HASHALGORITHM_MD5\"),\n",
    "        hash = md5_file_hash\n",
    "    ),\n",
    "    auto_update = True\n",
    ")\n",
    "\n",
    "# Send the request to the AOS instance gRPC gateway\n",
    "finish_response = client.object_client.FinishObjectStaging(request=finish_request)\n",
    "\n",
    "# Do something with the response\n",
    "print(f'{finish_response}')"
   ]
  },
  {
   "cell_type": "markdown",
   "metadata": {},
   "source": [
    "\n",
    "**Current Project State:**\n",
    "\n",
    "![Project with admin user](./imgs/Demo_simple_objects.jpg)"
   ]
  },
  {
   "cell_type": "markdown",
   "metadata": {},
   "source": [
    "## Create ObjectGroup to bundle data and metadata"
   ]
  },
  {
   "cell_type": "code",
   "execution_count": null,
   "metadata": {},
   "outputs": [],
   "source": [
    "# Imports from generated gRPC modules\n",
    "from aruna.api.storage.services.v1.objectgroup_service_pb2 import CreateObjectGroupRequest\n",
    "\n",
    "# Create tonic/ArunaAPI request to create a new object group\n",
    "create_objectgroup_request = CreateObjectGroupRequest(\n",
    "    name            = \"WSC11_07212669_20220131T175851 ObjectGroup\",\n",
    "    description     = \"WSC11_07212669_20220131T175851 data/metadata bundle\",\n",
    "    collection_id   = create_collection_response.collection_id,\n",
    "    object_ids      = [init_first_object_response.object_id],\n",
    "    meta_object_ids = [init_meta_object_response.object_id],\n",
    "    labels          = [KeyValue(\n",
    "        key=\"sensor_id\",\n",
    "        value=\"34254915479139543\"\n",
    "    )]\n",
    ")\n",
    "\n",
    "# Send the request to the AOS instance gRPC gateway\n",
    "create_objectgroup_response = client.object_group_client.CreateObjectGroup(request=create_objectgroup_request)\n",
    "\n",
    "# Do something with the response\n",
    "print(f'{create_objectgroup_response}')"
   ]
  },
  {
   "cell_type": "markdown",
   "metadata": {},
   "source": [
    "## Get ObjectGroup Information"
   ]
  },
  {
   "cell_type": "code",
   "execution_count": null,
   "metadata": {},
   "outputs": [],
   "source": [
    "# Imports from generated gRPC modules\n",
    "from aruna.api.storage.services.v1.objectgroup_service_pb2 import GetObjectGroupByIdRequest\n",
    "\n",
    "# Create tonic/ArunaAPI request to fetch information about a specific object group\n",
    "get_objectgroup_request = GetObjectGroupByIdRequest(\n",
    "    group_id      = create_objectgroup_response.object_group.id,\n",
    "    collection_id = create_collection_response.collection_id\n",
    ")\n",
    "\n",
    "# Send the request to the AOS instance gRPC gateway\n",
    "get_objectgroup_response = client.object_group_client.GetObjectGroupById(request=get_objectgroup_request)\n",
    "\n",
    "# Do something with the response\n",
    "print(f'{get_objectgroup_response}')"
   ]
  },
  {
   "cell_type": "code",
   "execution_count": null,
   "metadata": {},
   "outputs": [],
   "source": [
    "# Imports from generated gRPC modules\n",
    "from aruna.api.storage.services.v1.objectgroup_service_pb2 import GetObjectGroupsRequest\n",
    "from aruna.api.storage.models.v1.query_pb2 import LabelOrIDQuery, LabelFilter\n",
    "\n",
    "# Create tonic/ArunaAPI request to fetch information about a specific object group\n",
    "get_objectgroups_request = GetObjectGroupsRequest(\n",
    "        collection_id = create_collection_response.collection_id,\n",
    "        label_id_filter = LabelOrIDQuery(\n",
    "            labels = LabelFilter(\n",
    "                labels = [KeyValue(key=\"sensor_id\", value=\"34254915479139543\")]\n",
    "            )\n",
    "        )\n",
    "    )\n",
    "\n",
    "# Send the request to the AOS instance gRPC gateway\n",
    "get_objectgroups_response = client.object_group_client.GetObjectGroups(request=get_objectgroups_request)\n",
    "\n",
    "# Do something with the response\n",
    "print(f'{get_objectgroups_response}')"
   ]
  },
  {
   "cell_type": "markdown",
   "metadata": {},
   "source": [
    "\n",
    "**Current Project State:**\n",
    "\n",
    "![Project with admin user](https://www.computational.bio.uni-giessen.de/nextcloud/index.php/s/M6Zf6993LnWGmgq/download/Demo_simple_objectgroup.jpg)"
   ]
  },
  {
   "cell_type": "markdown",
   "metadata": {},
   "source": [
    "## Get Objects of ObjectGroup"
   ]
  },
  {
   "cell_type": "code",
   "execution_count": null,
   "metadata": {},
   "outputs": [],
   "source": [
    "# Imports from generated gRPC modules\n",
    "from aruna.api.storage.services.v1.objectgroup_service_pb2 import GetObjectGroupObjectsRequest, ObjectGroupObject\n",
    "from aruna.api.storage.services.v1.object_service_pb2 import GetDownloadURLRequest\n",
    "\n",
    "# Create tonic/ArunaAPI request to fetch information of the first 20 objects of an object group including meta objects\n",
    "get_objects_request = GetObjectGroupObjectsRequest(\n",
    "    group_id      = create_objectgroup_response.object_group.id,\n",
    "    collection_id = create_collection_response.collection_id\n",
    ")\n",
    "\n",
    "# Send the request to the AOS instance gRPC gateway\n",
    "get_objects_response = client.object_group_client.GetObjectGroupObjects(request=get_objects_request)\n",
    "\n",
    "# Do something with the response\n",
    "print(f\"{get_objects_response}\")"
   ]
  },
  {
   "cell_type": "code",
   "execution_count": null,
   "metadata": {},
   "outputs": [],
   "source": [
    "data_object_ids     = [dobject.object.id for dobject in get_objects_response.object_group_objects if dobject.is_metadata == False]\n",
    "metadata_object_ids = [mobject.object.id for mobject in get_objects_response.object_group_objects if mobject.is_metadata == True]\n",
    "\n",
    "print(f'{data_object_ids}')\n",
    "print(f'{metadata_object_ids}')"
   ]
  },
  {
   "cell_type": "markdown",
   "metadata": {},
   "source": [
    "## Download data Objects"
   ]
  },
  {
   "cell_type": "code",
   "execution_count": null,
   "metadata": {},
   "outputs": [],
   "source": [
    "import os\n",
    "import json\n",
    "\n",
    "from urllib.parse import urlparse, parse_qs\n",
    "\n",
    "# Imports from generated gRPC modules\n",
    "from aruna.api.storage.services.v1.object_service_pb2 import GetDownloadURLRequest\n",
    "\n",
    "# Download all data objects\n",
    "for data_object_id in data_object_ids:\n",
    "    # Create tonic/ArunaAPI request to fetch an Objects download url\n",
    "    download_url_request = GetDownloadURLRequest(\n",
    "        collection_id = create_collection_response.collection_id,\n",
    "        object_id     = data_object_id\n",
    "    )\n",
    "\n",
    "    # Send the request to the AOS instance gRPC gateway\n",
    "    download_url_response = client.object_client.GetDownloadURL(request=download_url_request)\n",
    "\n",
    "    # Extract download url from response\n",
    "    download_url = download_url_response.url.url\n",
    "\n",
    "    # Download data\n",
    "    with requests.get(download_url) as response:\n",
    "        response.raise_for_status # Raise error if response contains error status\n",
    "        \n",
    "        json_body = json.loads(response.content)\n",
    "        print(json.dumps(json_body, indent=2))"
   ]
  },
  {
   "cell_type": "markdown",
   "metadata": {},
   "source": [
    "## Download metadata Objects"
   ]
  },
  {
   "cell_type": "code",
   "execution_count": null,
   "metadata": {},
   "outputs": [],
   "source": [
    "# Download all metadata objects\n",
    "for metadata_object_id in metadata_object_ids:\n",
    "    # Create tonic/ArunaAPI request to fetch an Objects download url\n",
    "    download_url_request = GetDownloadURLRequest(\n",
    "        collection_id = create_collection_response.collection_id,\n",
    "        object_id     = metadata_object_id\n",
    "    )\n",
    "\n",
    "    # Send the request to the AOS instance gRPC gateway\n",
    "    download_url_response = client.object_client.GetDownloadURL(request=download_url_request)\n",
    "\n",
    "    # Extract download url from response\n",
    "    download_url = download_url_response.url.url\n",
    "\n",
    "    # Download data\n",
    "    with requests.get(download_url) as response:\n",
    "        response.raise_for_status # Raise error if response contains error status\n",
    "\n",
    "        json_body = json.loads(response.content)\n",
    "        print(json.dumps(json_body, indent=2))"
   ]
  },
  {
   "cell_type": "markdown",
   "metadata": {},
   "source": [
    "# Extended Feature Demonstration\n",
    "<hr/>\n",
    "\n",
    "- Object reusal\n",
    "- Object referencing\n",
    "\n",
    "<hr/>"
   ]
  },
  {
   "cell_type": "markdown",
   "metadata": {},
   "source": [
    "## Upload another weather data point and reuse e.g. station metadata"
   ]
  },
  {
   "cell_type": "code",
   "execution_count": null,
   "metadata": {},
   "outputs": [],
   "source": [
    "# Create tonic/ArunaAPI request to initialize an staging object\n",
    "init_second_object_request = InitializeNewObjectRequest(\n",
    "    object=StageObject(\n",
    "        filename      = \"WSC11_07212669_20220131T181543.json\",\n",
    "        description   = \"Another weather data point.\",\n",
    "        content_len   = 1100,\n",
    "        dataclass     = DataClass.Value(\"DATA_CLASS_PRIVATE\")\n",
    "    ),\n",
    "    collection_id = create_collection_response.collection_id\n",
    ")\n",
    "\n",
    "# Send the request to the AOS instance gRPC gateway\n",
    "init_second_object_response = client.object_client.InitializeNewObject(request=init_second_object_request)\n",
    "\n",
    "# Do something with the response\n",
    "print(f'{init_second_object_response}')\n",
    "\n",
    "# Create tonic/ArunaAPI request to request an upload url for single part upload\n",
    "get_upload_url_request = GetUploadURLRequest(\n",
    "    object_id     = init_second_object_response.object_id,\n",
    "    upload_id     = init_second_object_response.upload_id,\n",
    "    collection_id = init_second_object_response.collection_id,\n",
    "    part_number   = 1 # Increases in case of multipart upload\n",
    ")\n",
    "\n",
    "# Send the request to the AOS instance gRPC gateway\n",
    "response = client.object_client.GetUploadURL(request=get_upload_url_request)\n",
    "\n",
    "# Do something with the response\n",
    "upload_url = response.url.url\n",
    "\n",
    "# Load remote file content in memory\n",
    "remote_file_url = \"https://gitlab-pe.gwdg.de/gfbio/ammod-examples-schemas/-/raw/master/examples/weather/raw%20data/WSC11_07212669_20220131T175851.json\"\n",
    "remote_file_raw = requests.get(remote_file_url).content\n",
    "updated_remote_file_raw = remote_file_raw.replace(b'971.9000244140625', b'980.9000244140625').replace(b'2022-01-31T17:58:51+0100', b'2022-01-31T18:15:43+0100')\n",
    "\n",
    "# Upload file content to the generated upload URL\n",
    "headers = {'Content-type': 'application/octet-stream'}\n",
    "upload_response = requests.put(upload_url, data=updated_remote_file_raw, headers=headers)\n",
    "\n",
    "# Do something with the response\n",
    "upload_response.raise_for_status\n",
    "\n",
    "# Calculate MD5 Hashsum of file\n",
    "md5_file_hash = hashlib.md5(updated_remote_file_raw).hexdigest()\n",
    "\n",
    "# Create tonic/ArunaAPI request to finish a multipart upload staging object\n",
    "finish_request = FinishObjectStagingRequest(\n",
    "    object_id     = init_second_object_response.object_id,\n",
    "    upload_id     = init_second_object_response.upload_id,\n",
    "    collection_id = init_second_object_response.collection_id,\n",
    "    hash = Hash(\n",
    "        alg  = Hashalgorithm.Value(\"HASHALGORITHM_MD5\"),\n",
    "        hash = md5_file_hash\n",
    "    ),\n",
    "    auto_update = True\n",
    ")\n",
    "\n",
    "# Send the request to the AOS instance gRPC gateway\n",
    "finish_response = client.object_client.FinishObjectStaging(request=finish_request)\n",
    "\n",
    "# Do something with the response\n",
    "print(f'{finish_response}')"
   ]
  },
  {
   "cell_type": "markdown",
   "metadata": {},
   "source": [
    "## Bundle new data point with existing metadata in ObjectGroup"
   ]
  },
  {
   "cell_type": "code",
   "execution_count": null,
   "metadata": {},
   "outputs": [],
   "source": [
    "# Create tonic/ArunaAPI request to create a new object group\n",
    "create_objectgroup_request = CreateObjectGroupRequest(\n",
    "    name            = \"WSC11_07212669_20220131T181543 ObjectGroup\",\n",
    "    description     = \"WSC11_07212669_20220131T181543 data/metadata bundle\",\n",
    "    collection_id   = create_collection_response.collection_id,\n",
    "    object_ids      = [init_second_object_response.object_id],\n",
    "    meta_object_ids = [init_meta_object_response.object_id],\n",
    "    labels          = [KeyValue(\n",
    "        key=\"sensor_id\",\n",
    "        value=\"34254915479139543\"\n",
    "    )]\n",
    ")\n",
    "\n",
    "# Send the request to the AOS instance gRPC gateway\n",
    "create_objectgroup_response = client.object_group_client.CreateObjectGroup(request=create_objectgroup_request)\n",
    "\n",
    "# Do something with the response\n",
    "print(f'{create_objectgroup_response}')"
   ]
  },
  {
   "cell_type": "markdown",
   "metadata": {},
   "source": [
    "## Display Object IDs of both ObjectGroups"
   ]
  },
  {
   "cell_type": "code",
   "execution_count": null,
   "metadata": {},
   "outputs": [],
   "source": [
    "# Create tonic/ArunaAPI request to fetch information about a specific object group\n",
    "get_objectgroups_request = GetObjectGroupsRequest(\n",
    "        collection_id = create_collection_response.collection_id,\n",
    "        label_id_filter = LabelOrIDQuery(\n",
    "            labels = LabelFilter(\n",
    "                labels = [KeyValue(key=\"sensor_id\", value=\"34254915479139543\")]\n",
    "            )\n",
    "        )\n",
    "    )\n",
    "\n",
    "# Send the request to the AOS instance gRPC gateway\n",
    "get_objectgroups_response = client.object_group_client.GetObjectGroups(request=get_objectgroups_request)\n",
    "\n",
    "# Do something with the response\n",
    "for object_group in get_objectgroups_response.object_groups.object_group_overviews:\n",
    "    # Create tonic/ArunaAPI request to fetch information of the first 20 objects of an object group including meta objects\n",
    "    get_objects_request = GetObjectGroupObjectsRequest(\n",
    "        group_id      = object_group.id,\n",
    "        collection_id = create_collection_response.collection_id\n",
    "    )\n",
    "\n",
    "    # Send the request to the AOS instance gRPC gateway\n",
    "    response = client.object_group_client.GetObjectGroupObjects(request=get_objects_request)\n",
    "\n",
    "    # Print all object ids contained in object group\n",
    "    print(f\"Object IDs: {[og_object.object.id for og_object in response.object_group_objects]}\")"
   ]
  },
  {
   "cell_type": "markdown",
   "metadata": {},
   "source": [
    "**Current Project State**\n",
    "\n",
    "![Current Project State](./imgs/Generic/Demo_simple_second_data.jpg)"
   ]
  },
  {
   "cell_type": "markdown",
   "metadata": {},
   "source": [
    "## Reference Objects in another Collection"
   ]
  },
  {
   "cell_type": "code",
   "execution_count": null,
   "metadata": {},
   "outputs": [],
   "source": [
    "# Create tonic/ArunaAPI request to create another collection\n",
    "create_target_collection_request = CreateNewCollectionRequest(\n",
    "    project_id  = PROJECT_ID,\n",
    "    name        = \"Raw Weather Data\",\n",
    "    description = \"Collection with references to all raw weather data points.\",\n",
    "    dataclass   = DataClass.Value(\"DATA_CLASS_PRIVATE\")\n",
    ")\n",
    "\n",
    "# Send the request to the AOS instance gRPC gateway\n",
    "create_target_collection_response = client.collection_client.CreateNewCollection(request=create_target_collection_request)\n",
    "\n",
    "# Do something with the response\n",
    "print(f'{create_target_collection_response}')"
   ]
  },
  {
   "cell_type": "code",
   "execution_count": null,
   "metadata": {},
   "outputs": [],
   "source": [
    "# Imports from generated gRPC modules\n",
    "from aruna.api.storage.services.v1.object_service_pb2 import CreateObjectReferenceRequest\n",
    "\n",
    "# Create tonic/ArunaAPI request to reference first object in another collection\n",
    "create_reference_request = CreateObjectReferenceRequest(\n",
    "    object_id            = init_first_object_response.object_id,\n",
    "    collection_id        = create_collection_response.collection_id,\n",
    "    target_collection_id = create_target_collection_response.collection_id,\n",
    "    writeable            = False, # Read Only\n",
    "    auto_update          = True # Always updates to latest version of source object\n",
    ")\n",
    "\n",
    "# Send the request to the AOS instance gRPC gateway\n",
    "create_reference_response = client.object_client.CreateObjectReference(request=create_reference_request)\n",
    "\n",
    "# Do something with the response\n",
    "print(f'{create_reference_response}')"
   ]
  },
  {
   "cell_type": "code",
   "execution_count": null,
   "metadata": {},
   "outputs": [],
   "source": [
    "# Create tonic/ArunaAPI request to reference second object in another collection\n",
    "create_reference_request = CreateObjectReferenceRequest(\n",
    "    object_id            = init_second_object_response.object_id,\n",
    "    collection_id        = create_collection_response.collection_id,\n",
    "    target_collection_id = create_target_collection_response.collection_id,\n",
    "    writeable            = False, # Read Only\n",
    "    auto_update          = True # Always updates to latest version of source object\n",
    ")\n",
    "\n",
    "# Send the request to the AOS instance gRPC gateway\n",
    "create_reference_response = client.object_client.CreateObjectReference(request=create_reference_request)\n",
    "\n",
    "# Do something with the response\n",
    "print(f'{create_reference_response}')"
   ]
  },
  {
   "cell_type": "markdown",
   "metadata": {},
   "source": [
    "**Current Project State**\n",
    "\n",
    "![Current Project State](https://www.computational.bio.uni-giessen.de/nextcloud/index.php/s/QqKwr8Qy2sSadye/download/Demo_simple_reference.jpg)"
   ]
  },
  {
   "cell_type": "markdown",
   "metadata": {},
   "source": []
  }
 ],
 "metadata": {
  "kernelspec": {
   "display_name": "Python 3 (ipykernel)",
   "language": "python",
   "name": "python3"
  },
  "language_info": {
   "codemirror_mode": {
    "name": "ipython",
    "version": 3
   },
   "file_extension": ".py",
   "mimetype": "text/x-python",
   "name": "python",
   "nbconvert_exporter": "python",
   "pygments_lexer": "ipython3",
   "version": "3.11.6"
  },
  "vscode": {
   "interpreter": {
    "hash": "e7370f93d1d0cde622a1f8e1c04877d8463912d04d973331ad4851f04de6915a"
   }
  }
 },
 "nbformat": 4,
 "nbformat_minor": 4
}
